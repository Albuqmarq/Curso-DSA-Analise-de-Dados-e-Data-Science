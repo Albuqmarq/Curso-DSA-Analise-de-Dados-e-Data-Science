{
  "nbformat": 4,
  "nbformat_minor": 0,
  "metadata": {
    "colab": {
      "provenance": [],
      "authorship_tag": "ABX9TyMP6zrG4GTDXnxNuhftmzf1",
      "include_colab_link": true
    },
    "kernelspec": {
      "name": "python3",
      "display_name": "Python 3"
    },
    "language_info": {
      "name": "python"
    }
  },
  "cells": [
    {
      "cell_type": "markdown",
      "metadata": {
        "id": "view-in-github",
        "colab_type": "text"
      },
      "source": [
        "<a href=\"https://colab.research.google.com/github/Albuqmarq/Curso-DSA-Analise-de-Dados-e-Data-Science/blob/main/Cap_5/Calculadora%20e%20lista%20exerc%C3%ADcios/DSA_cap5_lab2ipynb.ipynb\" target=\"_parent\"><img src=\"https://colab.research.google.com/assets/colab-badge.svg\" alt=\"Open In Colab\"/></a>"
      ]
    },
    {
      "cell_type": "code",
      "execution_count": 6,
      "metadata": {
        "colab": {
          "base_uri": "https://localhost:8080/"
        },
        "id": "B0R_TYFUgr1V",
        "outputId": "b3893f97-ba78-4761-bd4c-3ba6aa8f0f97"
      },
      "outputs": [
        {
          "output_type": "stream",
          "name": "stdout",
          "text": [
            "Digite a operação que deseja realizar:\n",
            "1 - SOMA\n",
            "2 - SUBTRAÇÃO\n",
            "3 - MULTIPLICAÇÃO\n",
            "4 - DIVISÃO\n",
            "=> 4\n",
            "Digite o primeiro número: 11\n",
            "Digite o segundo número: 33\n",
            "11/33=0.3333333333333333\n"
          ]
        }
      ],
      "source": [
        "def soma(a,b): return a+b\n",
        "def sub(a,b): return a-b\n",
        "def mult(a,b): return a*b\n",
        "def div(a,b): return a/b\n",
        "choice=int(input(\"Digite a operação que deseja realizar:\\n1 - SOMA\\n2 - SUBTRAÇÃO\\n3 - MULTIPLICAÇÃO\\n4 - DIVISÃO\\n=> \"))\n",
        "n1= int(input(\"Digite o primeiro número: \"))\n",
        "n2= int(input(\"Digite o segundo número: \"))\n",
        "if choice ==1:\n",
        "    print(f\"{n1} + {n2} = {soma(n1,n2)}\")\n",
        "elif choice ==2:\n",
        "    print(f\"{n1} - {n2} = {sub(n1,n2)}\")\n",
        "elif choice ==3:\n",
        "    print(f\"{n1} * {n2} = {mult(n1,n2)}\")\n",
        "elif choice ==4:\n",
        "    print(f\"{n1} / {n2} = {div(n1,n2)}\")\n",
        "else:\n",
        "  print(\"Opção inválida\")\n"
      ]
    },
    {
      "cell_type": "code",
      "source": [
        "# Exercício 1 - Crie uma estrutura que pergunte ao usuário qual o dia da semana. Se o dia for igual a Domingo ou\n",
        "# igual a sábado, imprima na tela \"Hoje é dia de descanso\", caso contrário imprima na tela \"Você precisa trabalhar!\"\n",
        "dia=input(\"Hoje é qual dia da semana? \").lower()\n",
        "if dia ==\"domingo\" or dia==\"sabado\":\n",
        "    print(\"Hoje é dia de descanso\")\n",
        "else:\n",
        "    print(\"Você precisa trabalhar!\")"
      ],
      "metadata": {
        "colab": {
          "base_uri": "https://localhost:8080/"
        },
        "id": "0yY3wcw5k6Yl",
        "outputId": "fbc50509-3c05-4924-970f-3aae3d14d397"
      },
      "execution_count": 15,
      "outputs": [
        {
          "output_type": "stream",
          "name": "stdout",
          "text": [
            "Hoje é qual dia da semana? DOMINGO\n",
            "Hoje é dia de descanso\n"
          ]
        }
      ]
    },
    {
      "cell_type": "code",
      "source": [
        "# Exercício 2 - Crie uma lista de 5 frutas e verifique se a fruta 'Morango' faz parte da lista\n",
        "lista=['Abacate','Limão','Melancia','Morango','Melão']\n",
        "for i in lista:\n",
        "  if i==\"Morango\": print(\"Morango faz parte\")\n",
        ""
      ],
      "metadata": {
        "colab": {
          "base_uri": "https://localhost:8080/"
        },
        "id": "fpvD6A0ymnrH",
        "outputId": "822dc82b-ae08-4f54-bdda-4a7934d15f21"
      },
      "execution_count": 29,
      "outputs": [
        {
          "output_type": "stream",
          "name": "stdout",
          "text": [
            "Morango faz parte\n"
          ]
        }
      ]
    },
    {
      "cell_type": "code",
      "source": [
        "# Exercício 3 - Crie uma tupla de 4 elementos, multiplique cada elemento da tupla por 2 e guarde os resultados em uma\n",
        "# lista\n",
        "tupla=(1,2,3,4)\n",
        "lista=[]\n",
        "for x in tupla:\n",
        "  lista.append(x*2)\n",
        "print(lista)"
      ],
      "metadata": {
        "colab": {
          "base_uri": "https://localhost:8080/"
        },
        "id": "9XLB5drLoY8_",
        "outputId": "ceed54d0-9f7f-4193-be5e-bc7a4a211176"
      },
      "execution_count": 32,
      "outputs": [
        {
          "output_type": "stream",
          "name": "stdout",
          "text": [
            "[2, 4, 6, 8]\n"
          ]
        }
      ]
    },
    {
      "cell_type": "code",
      "source": [
        "# Exercício 4 - Crie uma sequência de números pares entre 100 e 150 e imprima na tela\n",
        "for i in range(100, 151, 2):\n",
        "  print(i)"
      ],
      "metadata": {
        "colab": {
          "base_uri": "https://localhost:8080/"
        },
        "id": "kvsPewLipWYO",
        "outputId": "668e7956-474e-4bd7-9856-d9472f902d97"
      },
      "execution_count": 33,
      "outputs": [
        {
          "output_type": "stream",
          "name": "stdout",
          "text": [
            "100\n",
            "102\n",
            "104\n",
            "106\n",
            "108\n",
            "110\n",
            "112\n",
            "114\n",
            "116\n",
            "118\n",
            "120\n",
            "122\n",
            "124\n",
            "126\n",
            "128\n",
            "130\n",
            "132\n",
            "134\n",
            "136\n",
            "138\n",
            "140\n",
            "142\n",
            "144\n",
            "146\n",
            "148\n",
            "150\n"
          ]
        }
      ]
    },
    {
      "cell_type": "code",
      "source": [
        "# Exercício 5 - Crie uma variável chamada temperatura e atribua o valor 40. Enquanto temperatura for maior que 35,\n",
        "# imprima as temperaturas na tela\n",
        "temp = 40\n",
        "while temp>35:\n",
        "  print(temp)\n",
        "  temp-= 1"
      ],
      "metadata": {
        "colab": {
          "base_uri": "https://localhost:8080/"
        },
        "id": "Vn9W3NXQpjH1",
        "outputId": "74e4dab1-5904-494e-b34c-365cfa86b1f4"
      },
      "execution_count": 34,
      "outputs": [
        {
          "output_type": "stream",
          "name": "stdout",
          "text": [
            "40\n",
            "39\n",
            "38\n",
            "37\n",
            "36\n"
          ]
        }
      ]
    },
    {
      "cell_type": "code",
      "source": [
        "# Exercício 6 - Crie uma variável chamada contador = 0. Enquanto counter for menor que 100, imprima os valores na tela,\n",
        "# mas quando for encontrado o valor 23, interrompa a execução do programa\n",
        "contador = 0\n",
        "while contador < 100:\n",
        "  if contador == 23:\n",
        "    break\n",
        "  print(contador)\n",
        "  contador+=1"
      ],
      "metadata": {
        "colab": {
          "base_uri": "https://localhost:8080/"
        },
        "id": "jcw7b4-Gp8z2",
        "outputId": "6755acfc-854a-4a66-f8bd-9d0cccc8042a"
      },
      "execution_count": 35,
      "outputs": [
        {
          "output_type": "stream",
          "name": "stdout",
          "text": [
            "0\n",
            "1\n",
            "2\n",
            "3\n",
            "4\n",
            "5\n",
            "6\n",
            "7\n",
            "8\n",
            "9\n",
            "10\n",
            "11\n",
            "12\n",
            "13\n",
            "14\n",
            "15\n",
            "16\n",
            "17\n",
            "18\n",
            "19\n",
            "20\n",
            "21\n",
            "22\n"
          ]
        }
      ]
    },
    {
      "cell_type": "code",
      "source": [
        "# Exercício 7 - Crie uma lista vazia e uma variável com valor 4. Enquanto o valor da variável for menor ou igual a 20,\n",
        "# adicione à lista, apenas os valores pares e imprima a list\n",
        "valor=4\n",
        "lista=[]\n",
        "while valor <=20:\n",
        "    lista.append(valor)\n",
        "    valor+=2\n",
        "print(lista)"
      ],
      "metadata": {
        "colab": {
          "base_uri": "https://localhost:8080/"
        },
        "id": "Bm2ydcUpqAI_",
        "outputId": "11c73460-ceeb-4373-c9d1-77771a1c85e7"
      },
      "execution_count": 40,
      "outputs": [
        {
          "output_type": "stream",
          "name": "stdout",
          "text": [
            "[4, 6, 8, 10, 12, 14, 16, 18, 20]\n"
          ]
        }
      ]
    },
    {
      "cell_type": "code",
      "source": [
        "# Exercício 8 - Transforme o resultado desta função range em uma lista: range(5, 45, 2)\n",
        "nums = range(5, 45, 2)\n",
        "print(list(nums))"
      ],
      "metadata": {
        "colab": {
          "base_uri": "https://localhost:8080/"
        },
        "id": "7NchYfNKrmqO",
        "outputId": "7e986e45-1fde-4320-c36b-58deda1294d6"
      },
      "execution_count": 42,
      "outputs": [
        {
          "output_type": "stream",
          "name": "stdout",
          "text": [
            "[5, 7, 9, 11, 13, 15, 17, 19, 21, 23, 25, 27, 29, 31, 33, 35, 37, 39, 41, 43]\n"
          ]
        }
      ]
    },
    {
      "cell_type": "code",
      "source": [
        "# Exercício 9 - Faça a correção dos erros no código abaixo e execute o programa. Dica: são 3 erros.\n",
        "#temperatura = float(input('Qual a temperatura? '))\n",
        "#if temperatura > 30\n",
        "#print('Vista roupas leves.')\n",
        "#else\n",
        "    #print('Busque seus casacos.')\n",
        "temperatura = float(input('Qual a temperatura? '))\n",
        "if temperatura > 30:\n",
        "  print(\"Vista roupas leves.\")\n",
        "else:\n",
        "  print(\"Busque seus casacos.\")"
      ],
      "metadata": {
        "colab": {
          "base_uri": "https://localhost:8080/"
        },
        "id": "-tIncqLOsAyc",
        "outputId": "58a7da29-9437-4b82-e96e-3ae2cb10a9f8"
      },
      "execution_count": 44,
      "outputs": [
        {
          "output_type": "stream",
          "name": "stdout",
          "text": [
            "Qual a temperatura? 40\n",
            "Vista roupas leves.\n"
          ]
        }
      ]
    },
    {
      "cell_type": "code",
      "source": [
        "# Exercício 10 - Faça um programa que conte quantas vezes a letra \"r\" aparece na frase abaixo. Use um placeholder na\n",
        "# sua instrução de impressão\n",
        "\n",
        "# “A gratidão é a virtude das almas nobres. O quão feliz é uma pessoa depende da profundidade de sua gratidão.”\n",
        "\n",
        "frase = \"A gratidão é a virtude das almas nobres. O quão feliz é uma pessoa depende da profundidade de sua gratidão.\"\n",
        "contador=0\n",
        "for i in frase:\n",
        "  if i==\"r\":\n",
        "    contador+=1\n",
        "print(f\"A letra 'r' aparece {contador} vezes na frase\")"
      ],
      "metadata": {
        "colab": {
          "base_uri": "https://localhost:8080/"
        },
        "id": "myTGmzMbsrvl",
        "outputId": "f02e5b69-2e46-4181-f664-0fd4a0f461f5"
      },
      "execution_count": 45,
      "outputs": [
        {
          "output_type": "stream",
          "name": "stdout",
          "text": [
            "A letra 'r' aparece 5 vezes na frase\n"
          ]
        }
      ]
    }
  ]
}
